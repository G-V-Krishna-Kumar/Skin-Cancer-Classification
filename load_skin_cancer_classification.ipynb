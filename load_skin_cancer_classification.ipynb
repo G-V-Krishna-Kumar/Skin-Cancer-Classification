{
 "cells": [
  {
   "cell_type": "code",
   "execution_count": 6,
   "metadata": {},
   "outputs": [],
   "source": [
    "import cv2\n",
    "import matplotlib.pyplot as plt\n",
    "import matplotlib.image as image\n",
    "import numpy as np\n",
    "from tensorflow.keras.models import load_model"
   ]
  },
  {
   "cell_type": "code",
   "execution_count": 2,
   "metadata": {},
   "outputs": [],
   "source": [
    "model = load_model(\"cnn_model.h5\")"
   ]
  },
  {
   "cell_type": "code",
   "execution_count": null,
   "metadata": {},
   "outputs": [],
   "source": [
    "test_loss, test_accuracy = model.evaluate(X, test_labels)"
   ]
  },
  {
   "cell_type": "code",
   "execution_count": 15,
   "metadata": {},
   "outputs": [
    {
     "name": "stdout",
     "output_type": "stream",
     "text": [
      "1/1 [==============================] - 0s 23ms/step\n",
      "Non Cancerous\n"
     ]
    }
   ],
   "source": [
    "image_path = r\"Test4.jpg\"\n",
    "image = cv2.imread(image_path, 1)\n",
    "\n",
    "image = cv2.resize(image, (180, 180))\n",
    "\n",
    "image = image/255\n",
    "\n",
    "image = np.reshape(image, (1, 180, 180, 3))\n",
    "\n",
    "pred = model.predict(image)\n",
    "\n",
    "class_label = np.argmax(pred)\n",
    "\n",
    "if class_label == 0:\n",
    "    print(\"Cancerous\")\n",
    "else:\n",
    "    print(\"Non Cancerous\")\n"
   ]
  }
 ],
 "metadata": {
  "kernelspec": {
   "display_name": "Python 3",
   "language": "python",
   "name": "python3"
  },
  "language_info": {
   "codemirror_mode": {
    "name": "ipython",
    "version": 3
   },
   "file_extension": ".py",
   "mimetype": "text/x-python",
   "name": "python",
   "nbconvert_exporter": "python",
   "pygments_lexer": "ipython3",
   "version": "3.10.7"
  },
  "orig_nbformat": 4
 },
 "nbformat": 4,
 "nbformat_minor": 2
}
